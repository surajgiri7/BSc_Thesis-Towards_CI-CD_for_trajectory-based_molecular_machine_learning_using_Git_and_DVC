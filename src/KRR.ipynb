{
 "cells": [
  {
   "cell_type": "markdown",
   "metadata": {},
   "source": [
    "# KRR for Trajectory-Based Molecular Machine Learning\n",
    "### Thesis topic: **\"CI/CD for trajectory-based molecular machine learning: From training data to models.\"**\n",
    "#### Author: Suraj Giri \n",
    "#### Supervisor: Prof. Dr. Peter Zaspel\n",
    "### **Preliminary Dataset** : 10k .xyz files with molecular trajectories of C6H6 molecules and a .dat file with energies for those 10k molecules.\n",
    "\n",
    "#### Major Tasks:\n",
    "1. Developing **Kernel Ridge Regression in DVC Structure** \n",
    "2. Developing **Testing Software in DVC Structure**\n",
    "3. Jupyter Notebooks to showcase features of DVC for ML"
   ]
  },
  {
   "cell_type": "code",
   "execution_count": 9,
   "metadata": {},
   "outputs": [],
   "source": [
    "# importing the libraries\n",
    "import numpy as np\n",
    "import pandas as pd\n",
    "import os\n",
    "import matplotlib.pyplot as plt\n",
    "import qml\n",
    "from qml.kernels import gaussian_kernel"
   ]
  },
  {
   "cell_type": "markdown",
   "metadata": {},
   "source": [
    "## Preprocessing\n",
    "Loading the dataset: <br>\n",
    "All the 10k molecules and their respective energies, as compounds class of QML libray. The task is already done in 'import_dataset.py' and here we only import them from the given file."
   ]
  },
  {
   "cell_type": "code",
   "execution_count": 10,
   "metadata": {},
   "outputs": [
    {
     "name": "stdout",
     "output_type": "stream",
     "text": [
      "[<qml.compound.Compound object at 0x7f63df62e650>, <qml.compound.Compound object at 0x7f63df62d270>, <qml.compound.Compound object at 0x7f63df62c2e0>, <qml.compound.Compound object at 0x7f63df62efb0>, <qml.compound.Compound object at 0x7f63df62e920>, <qml.compound.Compound object at 0x7f63df62cd60>, <qml.compound.Compound object at 0x7f63df62c6d0>, <qml.compound.Compound object at 0x7f63df62de70>, <qml.compound.Compound object at 0x7f63df62e4a0>, <qml.compound.Compound object at 0x7f63df62ccd0>]\n"
     ]
    }
   ],
   "source": [
    "from import_dataset import compounds, energies\n",
    "print(compounds[0:10])"
   ]
  },
  {
   "cell_type": "markdown",
   "metadata": {},
   "source": [
    "## Feature Engineering\n",
    "Generating the Coloumb Matrices for every molecule in the dataset."
   ]
  },
  {
   "cell_type": "code",
   "execution_count": 11,
   "metadata": {},
   "outputs": [
    {
     "name": "stdout",
     "output_type": "stream",
     "text": [
      "10000\n",
      "Coloumb matrix for first element: \n",
      " [36.8581052  12.88475304 36.8581052  14.87814653 25.77010498 36.8581052\n",
      " 25.77010498 14.87814653 25.76950608 36.8581052  25.77010498 14.87814653\n",
      " 12.88505249 14.87849231 36.8581052  14.87814653 25.77010498 14.87849231\n",
      " 12.88505249 25.76950608 36.8581052   5.53505535  1.54718927  1.76372693\n",
      "  2.78515328  2.78515328  1.76372693  0.5         1.54718927  5.53505535\n",
      "  2.78515328  1.76372693  1.76372693  2.78515328  0.20153164  0.5\n",
      "  1.76372297  2.78513771  5.53492949  2.78511003  1.54720534  1.76374382\n",
      "  0.23270894  0.40306455  0.5         1.76372297  2.78513771  1.76374382\n",
      "  1.54720534  2.78511003  5.53492949  0.23270894  0.40306455  0.23270967\n",
      "  0.5         2.78513771  1.76372297  2.78511003  5.53492949  1.76374382\n",
      "  1.54720534  0.40306455  0.23270894  0.40306328  0.20153228  0.5\n",
      "  2.78513771  1.76372297  1.54720534  1.76374382  5.53492949  2.78511003\n",
      "  0.40306455  0.23270894  0.20153228  0.40306328  0.23270967  0.5       ]\n"
     ]
    }
   ],
   "source": [
    "for mol in compounds:\n",
    "    mol.generate_coulomb_matrix(size=12, sorting=\"row-norm\")\n",
    "\n",
    "# making a big 2D array with coloumb matrix of all the molecules\n",
    "X = np.array([mol.representation for mol in compounds])\n",
    "print(len(X))\n",
    "print(\"Coloumb matrix for first element: \\n\",X[0])"
   ]
  },
  {
   "cell_type": "markdown",
   "metadata": {},
   "source": [
    "## Splitting the Dataset\n",
    "Here we are following the common split of 80:20. 80% for training and 20% for testing."
   ]
  },
  {
   "cell_type": "code",
   "execution_count": 12,
   "metadata": {},
   "outputs": [
    {
     "name": "stdout",
     "output_type": "stream",
     "text": [
      "Training set: \n",
      "[[36.8581052  12.88475304 36.8581052  ...  0.40306328  0.23270967\n",
      "   0.5       ]\n",
      " [36.8581052  25.80544813 36.8581052  ...  0.40304174  0.2013175\n",
      "   0.5       ]\n",
      " [36.8581052  25.84224154 36.8581052  ...  0.40300293  0.20109353\n",
      "   0.5       ]\n",
      " ...\n",
      " [36.8581052  14.82299354 36.8581052  ...  0.23152695  0.1990727\n",
      "   0.5       ]\n",
      " [36.8581052  14.827238   36.8581052  ...  0.23152757  0.19908694\n",
      "   0.5       ]\n",
      " [36.8581052  14.83151007 36.8581052  ...  0.23152528  0.19910532\n",
      "   0.5       ]]\n",
      "(8000, 78)\n",
      "[5.518798 5.521764 5.524758 ... 5.345108 5.336727 5.3287  ]\n",
      "(8000,)\n",
      "\n",
      "\n",
      "Testing set: \n",
      "[[36.8581052  14.83565657 36.8581052  ...  0.23152019  0.1991276\n",
      "   0.5       ]\n",
      " [36.8581052  14.83981207 36.8581052  ...  0.23151186  0.19915356\n",
      "   0.5       ]\n",
      " [36.8581052  14.84406172 36.8581052  ...  0.2315001   0.19918428\n",
      "   0.5       ]\n",
      " ...\n",
      " [36.8581052  26.0098089  36.8581052  ...  0.38992388  0.23073636\n",
      "   0.5       ]\n",
      " [36.8581052  26.0088676  36.8581052  ...  0.38985784  0.23101973\n",
      "   0.5       ]\n",
      " [36.8581052  26.0069971  36.8581052  ...  0.37994251  0.20009091\n",
      "   0.5       ]]\n",
      "(2000, 78)\n",
      "[5.321162 5.313869 5.306794 ... 5.466634 5.465274 5.46375 ]\n",
      "(2000,)\n"
     ]
    }
   ],
   "source": [
    "# splitting the data into training and test set with 80% and 20% respectively from X\n",
    "X_train = X[:int(0.8*len(X))]\n",
    "X_test = X[int(0.8*len(X)):]\n",
    "Y_train = np.array([mol.properties for mol in compounds[:int(0.8*len(X))]])\n",
    "Y_test = energies[int(0.8*len(X)):]\n",
    "\n",
    "print(\"Training set: \")\n",
    "print(X_train)\n",
    "print(X_train.shape)\n",
    "print(Y_train)\n",
    "print(Y_train.shape)\n",
    "\n",
    "print(\"\\n\")\n",
    "print(\"Testing set: \")\n",
    "print(X_test)\n",
    "print(X_test.shape)\n",
    "print(Y_test)\n",
    "print(Y_test.shape)"
   ]
  },
  {
   "cell_type": "markdown",
   "metadata": {},
   "source": [
    "## Model Selection:\n",
    "For now I am choosing Gaussian Kernel:\n",
    "$$ K_{ij} = \\exp\\left(-\\frac{\\left(\\left\\lVert X_i - X_j \\right\\rVert_2^2\\right)}{2 \\sigma^2}\\right) $$"
   ]
  },
  {
   "cell_type": "code",
   "execution_count": 13,
   "metadata": {},
   "outputs": [
    {
     "name": "stdout",
     "output_type": "stream",
     "text": [
      "(8000, 8000)\n",
      "[[1.         0.99923916 0.99923902 ... 0.99952595 0.9995262  0.99952644]\n",
      " [0.99923916 1.         1.         ... 0.99968594 0.99968615 0.99968639]\n",
      " [0.99923902 1.         1.         ... 0.99968597 0.99968618 0.99968642]\n",
      " ...\n",
      " [0.99952595 0.99968594 0.99968597 ... 1.         1.         0.99999999]\n",
      " [0.9995262  0.99968615 0.99968618 ... 1.         1.         1.        ]\n",
      " [0.99952644 0.99968639 0.99968642 ... 0.99999999 1.         1.        ]]\n"
     ]
    }
   ],
   "source": [
    "# Defining the Kernel width\n",
    "sigma = 1000.0\n",
    "\n",
    "# Defining the Kernel K as a numpy array for the training set\n",
    "K = gaussian_kernel(X_train, X_train, sigma)\n",
    "\n",
    "print(K.shape)\n",
    "print(K)"
   ]
  },
  {
   "cell_type": "markdown",
   "metadata": {},
   "source": [
    "## KRR model using QML\n",
    "#### Regression Coefficient:\n",
    "$$ \\alpha = (K + \\lambda I)^{-1} y $$"
   ]
  },
  {
   "cell_type": "code",
   "execution_count": 14,
   "metadata": {},
   "outputs": [
    {
     "name": "stdout",
     "output_type": "stream",
     "text": [
      "Alpha: \n",
      "[1269999.13329539  976091.65848281 1012907.47115828 ...  501131.77522035\n",
      "  506919.02769211  490473.72932401]\n",
      "(8000,)\n"
     ]
    }
   ],
   "source": [
    "# Adding a small lambda to the diagonal of the kernel matrix for \"Ridge Regularization\"\n",
    "K[np.diag_indices_from(K)] += 1e-8\n",
    "\n",
    "# Solving the linear system of equations using the Cholesky decomposition\n",
    "from qml.math import cho_solve\n",
    "alpha = cho_solve(K, Y_train)\n",
    "\n",
    "print(\"Alpha: \")\n",
    "print(alpha)\n",
    "print(alpha.shape)"
   ]
  },
  {
   "cell_type": "markdown",
   "metadata": {},
   "source": [
    "### Prediction using KRR:\n",
    "$$ y(\\widetilde{X}) = \\sum_{=1}^{N_T} \\alpha_i K (\\widetilde{X}, {X_i}) $$\n",
    "\n",
    "where $ \\alpha_i $ is the regression coefficient and $ K (\\widetilde{X}, {X_i}) $ is the kernel for the KRR."
   ]
  },
  {
   "cell_type": "code",
   "execution_count": 15,
   "metadata": {},
   "outputs": [
    {
     "name": "stdout",
     "output_type": "stream",
     "text": [
      "Predicted Energies: \n",
      "[5.31665942 5.30996054 5.30371086 ... 5.49205577 5.48929198 5.47520101]\n",
      "(2000,)\n",
      "Mean Absolute Error:  0.018597294750385535\n"
     ]
    }
   ],
   "source": [
    "# Calculating the kernel matrix between test and training set using same sigma\n",
    "K_test_train = gaussian_kernel(X_test, X_train, sigma)\n",
    "\n",
    "# Calculating the predicted energies\n",
    "Y_pred = np.dot(K_test_train, alpha)\n",
    "print(\"Predicted Energies: \")\n",
    "print(Y_pred)\n",
    "print(Y_pred.shape)\n",
    "\n",
    "# Calculating the mean absolute error\n",
    "MAE = np.mean(np.abs(Y_pred - Y_test))\n",
    "print(\"Mean Absolute Error: \", MAE)"
   ]
  },
  {
   "cell_type": "markdown",
   "metadata": {},
   "source": [
    "Plot the following graphs <br>\n",
    "- loglog of mae vs training samples"
   ]
  },
  {
   "cell_type": "code",
   "execution_count": 16,
   "metadata": {},
   "outputs": [
    {
     "name": "stdout",
     "output_type": "stream",
     "text": [
      "1000\n",
      "MAE:  0.0247145530934722\n",
      "2000\n",
      "MAE:  0.024093893557137477\n",
      "3000\n",
      "MAE:  0.023328101376229683\n",
      "4000\n",
      "MAE:  0.02343822450629824\n",
      "5000\n",
      "MAE:  0.02376321267219405\n",
      "6000\n",
      "MAE:  0.022498885404496526\n",
      "7000\n",
      "MAE:  0.019883410785878634\n",
      "X_train_subset_size: \n",
      " [1000, 2000, 3000, 4000, 5000, 6000, 7000]\n",
      "MAE List: \n",
      " [0.0247145530934722, 0.024093893557137477, 0.023328101376229683, 0.02343822450629824, 0.02376321267219405, 0.022498885404496526, 0.019883410785878634]\n"
     ]
    }
   ],
   "source": [
    "# Generating the list of MAE for learning curve\n",
    "# Taking 10%, 20%, 30%, 40%, 50%, 60%, 70% of the training set\n",
    "MAE_list = []\n",
    "X_train_subset_size = []\n",
    "for i in range(1,8):\n",
    "    X_train_subset = X[:int(i*0.1*len(X))]\n",
    "    Y_train_subset = np.array([mol.properties for mol in compounds[:int(i*0.1*len(X))]])\n",
    "    sigma = 1000.0\n",
    "    K = gaussian_kernel(X_train_subset, X_train_subset, sigma)\n",
    "    K[np.diag_indices_from(K)] += 1e-8\n",
    "    alpha = cho_solve(K, Y_train_subset)\n",
    "    K_test_train = gaussian_kernel(X_test, X_train_subset, sigma)\n",
    "    Y_pred = np.dot(K_test_train, alpha)\n",
    "    MAE = np.mean(np.abs(Y_pred - Y_test))\n",
    "    MAE_list.append(MAE)\n",
    "    X_train_subset_size.append(X_train_subset.shape[0])\n",
    "    # print(\"For Each Iteration \", i )\n",
    "    # print(\"Alpha: \", alpha)\n",
    "    # print(\"Alpha Shape: \", alpha.shape)\n",
    "    print(X_train_subset.shape[0])\n",
    "    print(\"MAE: \", MAE)\n",
    "\n",
    "print(\"X_train_subset_size: \\n\", X_train_subset_size)\n",
    "print(\"MAE List: \\n\", MAE_list)\n",
    "\n"
   ]
  },
  {
   "cell_type": "code",
   "execution_count": 24,
   "metadata": {},
   "outputs": [
    {
     "data": {
      "image/png": "[encoded data removed]",
      "text/plain": [
       "<Figure size 600x600 with 1 Axes>"
      ]
     },
     "metadata": {},
     "output_type": "display_data"
    }
   ],
   "source": [
    "# Plotting the loglog plot of learning curve of MAE vs training set sizes\n",
    "plt.figure(figsize=(6, 6))\n",
    "plt.loglog(X_train_subset_size, MAE_list, 'o-')\n",
    "plt.xlabel('Training set size')\n",
    "plt.ylabel('MAE')\n",
    "plt.title('Learning Curve: MAE vs Training set size - LOGLOG PLOT')\n",
    "plt.show()"
   ]
  }
 ],
 "metadata": {
  "kernelspec": {
   "display_name": "Python 3 (ipykernel)",
   "language": "python",
   "name": "python3"
  },
  "language_info": {
   "codemirror_mode": {
    "name": "ipython",
    "version": 3
   },
   "file_extension": ".py",
   "mimetype": "text/x-python",
   "name": "python",
   "nbconvert_exporter": "python",
   "pygments_lexer": "ipython3",
   "version": "3.9.13"
  }
 },
 "nbformat": 4,
 "nbformat_minor": 2
}
