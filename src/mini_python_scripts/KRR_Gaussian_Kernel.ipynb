{
 "cells": [
  {
   "cell_type": "markdown",
   "metadata": {},
   "source": [
    "# KRR for Trajectory-Based Molecular Machine Learning\n",
    "### Thesis topic: **\"CI/CD for trajectory-based molecular machine learning: From training data to models.\"**\n",
    "#### Author: Suraj Giri \n",
    "#### Supervisor: Prof. Dr. Peter Zaspel\n",
    "### **Preliminary Dataset** : 10k .xyz files with molecular trajectories of C6H6 molecules and a .dat file with energies for those 10k molecules.\n",
    "\n",
    "#### Major Tasks:\n",
    "1. Developing **Kernel Ridge Regression in DVC Structure** \n",
    "2. Developing **Testing Software in DVC Structure**\n",
    "3. Jupyter Notebooks to showcase features of DVC for ML"
   ]
  },
  {
   "cell_type": "code",
   "execution_count": 1,
   "metadata": {
    "vscode": {
     "languageId": "python"
    }
   },
   "outputs": [],
   "source": [
    "# importing the libraries\n",
    "import numpy as np\n",
    "import pandas as pd\n",
    "import os\n",
    "import matplotlib.pyplot as plt\n",
    "import qml\n",
    "from qml.kernels import gaussian_kernel"
   ]
  },
  {
   "cell_type": "markdown",
   "metadata": {},
   "source": [
    "## Preprocessing\n",
    "Loading the dataset: <br>\n",
    "All the 10k molecules and their respective energies, as compounds class of QML libray. The task is already done in 'import_dataset.py' and here we only import them from the given file."
   ]
  },
  {
   "cell_type": "code",
   "execution_count": 2,
   "metadata": {
    "vscode": {
     "languageId": "python"
    }
   },
   "outputs": [],
   "source": [
    "# from import_dataset import compounds, energies\n",
    "# print(compounds[0:10])"
   ]
  },
  {
   "cell_type": "code",
   "execution_count": 3,
   "metadata": {
    "vscode": {
     "languageId": "python"
    }
   },
   "outputs": [
    {
     "name": "stdout",
     "output_type": "stream",
     "text": [
      "[5.518798 5.521764 5.524758 ... 5.466634 5.465274 5.46375 ]\n",
      "[<qml.compound.Compound object at 0x7f0dac0ec3d0>, <qml.compound.Compound object at 0x7f0dac297fd0>, <qml.compound.Compound object at 0x7f0dac0ec370>, <qml.compound.Compound object at 0x7f0d0d7837c0>, <qml.compound.Compound object at 0x7f0d0d7836d0>, <qml.compound.Compound object at 0x7f0d0d783730>, <qml.compound.Compound object at 0x7f0d0d781090>, <qml.compound.Compound object at 0x7f0d0d781330>, <qml.compound.Compound object at 0x7f0d0d783700>, <qml.compound.Compound object at 0x7f0d0d7810c0>]\n"
     ]
    }
   ],
   "source": [
    "# import Dataset\n",
    "# author: Suraj Giri\n",
    "# BSc Thesis, CS, Contructor University\n",
    "\n",
    "import os\n",
    "import re\n",
    "import qml\n",
    "import numpy as np\n",
    "\n",
    "# Define the folder where the xyz files are located\n",
    "molcules_folder = '../dataset/C6H6_molecules/'\n",
    "\n",
    "# Define the path to the energy .dat file\n",
    "energy_file = '../dataset/E_def2-tzvp.dat'\n",
    "\n",
    "# Get a list of all the xyz filenames in the folder\n",
    "xyz_files = [f for f in os.listdir(molcules_folder) if f.endswith('.xyz')]\n",
    "\n",
    "# Sort the filenames based on their molecule number (assuming the filename format is \"molecule_X.xyz\")\n",
    "xyz_files.sort(key=lambda x: int(x.split(\"_\")[1].split(\".\")[0]))\n",
    "\n",
    "# Load the energies from the .dat file\n",
    "energies = np.loadtxt(energy_file)\n",
    "print (energies)\n",
    "\n",
    "compounds = [qml.Compound(xyz=os.path.join(molcules_folder, xyz_file)) for xyz_file in xyz_files]\n",
    "print(compounds[0:10])\n",
    "\n",
    "for mol in compounds:\n",
    "    mol.properties = energies[compounds.index(mol)]\n",
    "    # print(mol.name)\n",
    "    # print(mol.name, mol.properties)\n",
    "\n",
    "# energy_molecule = np.array([mol.properties for mol in compounds])\n",
    "# print(energy_molecule)\n",
    "\n"
   ]
  },
  {
   "cell_type": "markdown",
   "metadata": {},
   "source": [
    "## Feature Engineering\n",
    "Generating the Coloumb Matrices for every molecule in the dataset."
   ]
  },
  {
   "cell_type": "code",
   "execution_count": 4,
   "metadata": {
    "vscode": {
     "languageId": "python"
    }
   },
   "outputs": [
    {
     "name": "stdout",
     "output_type": "stream",
     "text": [
      "20000\n",
      "Coloumb matrix for first element: \n",
      " [36.8581052  12.88475304 36.8581052  14.87814653 25.77010498 36.8581052\n",
      " 25.77010498 14.87814653 25.76950608 36.8581052  25.77010498 14.87814653\n",
      " 12.88505249 14.87849231 36.8581052  14.87814653 25.77010498 14.87849231\n",
      " 12.88505249 25.76950608 36.8581052   5.53505535  1.54718927  1.76372693\n",
      "  2.78515328  2.78515328  1.76372693  0.5         1.54718927  5.53505535\n",
      "  2.78515328  1.76372693  1.76372693  2.78515328  0.20153164  0.5\n",
      "  1.76372297  2.78513771  1.76374382  1.54720534  2.78511003  5.53492949\n",
      "  0.23270894  0.40306455  0.5         1.76372297  2.78513771  5.53492949\n",
      "  2.78511003  1.54720534  1.76374382  0.23270894  0.40306455  0.23270967\n",
      "  0.5         2.78513771  1.76372297  1.54720534  1.76374382  5.53492949\n",
      "  2.78511003  0.40306455  0.23270894  0.40306328  0.20153228  0.5\n",
      "  2.78513771  1.76372297  2.78511003  5.53492949  1.76374382  1.54720534\n",
      "  0.40306455  0.23270894  0.20153228  0.40306328  0.23270967  0.5       ]\n"
     ]
    }
   ],
   "source": [
    "for mol in compounds:\n",
    "    mol.generate_coulomb_matrix(size=12, sorting=\"row-norm\")\n",
    "\n",
    "# making a big 2D array with coloumb matrix of all the molecules\n",
    "X = np.array([mol.representation for mol in compounds])\n",
    "print(len(X))\n",
    "print(\"Coloumb matrix for first element: \\n\",X[0])"
   ]
  },
  {
   "cell_type": "markdown",
   "metadata": {},
   "source": [
    "## Splitting the Dataset\n",
    "Here we are following the common split of 80:20. 80% for training and 20% for testing."
   ]
  },
  {
   "cell_type": "code",
   "execution_count": 5,
   "metadata": {
    "vscode": {
     "languageId": "python"
    }
   },
   "outputs": [
    {
     "name": "stdout",
     "output_type": "stream",
     "text": [
      "Training set: \n",
      "[[36.8581052  12.88475304 36.8581052  ...  0.40306328  0.23270967\n",
      "   0.5       ]\n",
      " [36.8581052  25.80544813 36.8581052  ...  0.40304174  0.2013175\n",
      "   0.5       ]\n",
      " [36.8581052  25.84224154 36.8581052  ...  0.40300293  0.20109353\n",
      "   0.5       ]\n",
      " ...\n",
      " [36.8581052  25.6546598  36.8581052  ...  0.22765566  0.3821286\n",
      "   0.5       ]\n",
      " [36.8581052  25.66648275 36.8581052  ...  0.22747161  0.38196063\n",
      "   0.5       ]\n",
      " [36.8581052  25.67790948 36.8581052  ...  0.22732024  0.38186531\n",
      "   0.5       ]]\n",
      "(16000, 78)\n",
      "[5.518798 5.521764 5.524758 ... 5.31357  5.311584 5.309652]\n",
      "(16000,)\n",
      "\n",
      "\n",
      "Testing set: \n",
      "[[36.8581052  25.68920105 36.8581052  ...  0.22719773  0.38184292\n",
      "   0.5       ]\n",
      " [36.8581052  25.70004529 36.8581052  ...  0.22710907  0.38189501\n",
      "   0.5       ]\n",
      " [36.8581052  25.71040716 36.8581052  ...  0.22705265  0.38201889\n",
      "   0.5       ]\n",
      " ...\n",
      " [36.8581052  26.0098089  36.8581052  ...  0.38992388  0.23073636\n",
      "   0.5       ]\n",
      " [36.8581052  26.0088676  36.8581052  ...  0.38985784  0.23101973\n",
      "   0.5       ]\n",
      " [36.8581052  26.0069971  36.8581052  ...  0.37994251  0.20009091\n",
      "   0.5       ]]\n",
      "(4000, 78)\n",
      "[5.307692 5.305869 5.304046 ... 5.466634 5.465274 5.46375 ]\n",
      "(4000,)\n"
     ]
    }
   ],
   "source": [
    "# splitting the data into training and test set with 80% and 20% respectively from X\n",
    "X_train = X[:int(0.8*len(X))]\n",
    "X_test = X[int(0.8*len(X)):]\n",
    "Y_train = np.array([mol.properties for mol in compounds[:int(0.8*len(X))]])\n",
    "Y_test = energies[int(0.8*len(X)):]\n",
    "\n",
    "print(\"Training set: \")\n",
    "print(X_train)\n",
    "print(X_train.shape)\n",
    "print(Y_train)\n",
    "print(Y_train.shape)\n",
    "\n",
    "print(\"\\n\")\n",
    "print(\"Testing set: \")\n",
    "print(X_test)\n",
    "print(X_test.shape)\n",
    "print(Y_test)\n",
    "print(Y_test.shape)"
   ]
  },
  {
   "cell_type": "markdown",
   "metadata": {},
   "source": [
    "## Model Selection:\n",
    "For now I am choosing Gaussian Kernel:\n",
    "$$ K_{ij} = \\exp\\left(-\\frac{\\left(\\left\\lVert X_i - X_j \\right\\rVert_2^2\\right)}{2 \\sigma^2}\\right) $$"
   ]
  },
  {
   "cell_type": "code",
   "execution_count": 6,
   "metadata": {
    "vscode": {
     "languageId": "python"
    }
   },
   "outputs": [
    {
     "name": "stdout",
     "output_type": "stream",
     "text": [
      "(16000, 16000)\n",
      "[[1.         0.98126682 0.98126391 ... 0.98867845 0.98815838 0.98815295]\n",
      " [0.98126682 1.         0.99999996 ... 0.98530857 0.98580276 0.98580556]\n",
      " [0.98126391 0.99999996 1.         ... 0.98532006 0.98581475 0.98581756]\n",
      " ...\n",
      " [0.98867845 0.98530857 0.98532006 ... 1.         0.99923608 0.99923415]\n",
      " [0.98815838 0.98580276 0.98581475 ... 0.99923608 1.         0.99999998]\n",
      " [0.98815295 0.98580556 0.98581756 ... 0.99923415 0.99999998 1.        ]]\n"
     ]
    }
   ],
   "source": [
    "# Defining the Kernel width\n",
    "sigma = 200.0\n",
    "\n",
    "# Defining the Kernel K as a numpy array for the training set\n",
    "K = gaussian_kernel(X_train, X_train, sigma)\n",
    "\n",
    "print(K.shape)\n",
    "print(K)"
   ]
  },
  {
   "cell_type": "markdown",
   "metadata": {},
   "source": [
    "## KRR model using QML\n",
    "#### Regression Coefficient:\n",
    "$$ \\alpha = (K + \\lambda I)^{-1} y $$"
   ]
  },
  {
   "cell_type": "code",
   "execution_count": 7,
   "metadata": {
    "vscode": {
     "languageId": "python"
    }
   },
   "outputs": [
    {
     "name": "stdout",
     "output_type": "stream",
     "text": [
      "Alpha: \n",
      "[-403204.43954176  181364.61214086  248763.74409772 ...  -18150.07939597\n",
      "  -17302.96939085   30112.45840101]\n",
      "(16000,)\n"
     ]
    }
   ],
   "source": [
    "# Adding a small lambda to the diagonal of the kernel matrix for \"Ridge Regularization\"\n",
    "K[np.diag_indices_from(K)] += 1e-8\n",
    "\n",
    "# Solving the linear system of equations using the Cholesky decomposition\n",
    "from qml.math import cho_solve\n",
    "alpha = cho_solve(K, Y_train)\n",
    "\n",
    "print(\"Alpha: \")\n",
    "print(alpha)\n",
    "print(alpha.shape)"
   ]
  },
  {
   "cell_type": "markdown",
   "metadata": {},
   "source": [
    "### Prediction using KRR:\n",
    "$$ y(\\widetilde{X}) = \\sum_{=1}^{N_T} \\alpha_i K (\\widetilde{X}, {X_i}) $$\n",
    "\n",
    "where $ \\alpha_i $ is the regression coefficient and $ K (\\widetilde{X}, {X_i}) $ is the kernel for the KRR."
   ]
  },
  {
   "cell_type": "code",
   "execution_count": 8,
   "metadata": {
    "vscode": {
     "languageId": "python"
    }
   },
   "outputs": [
    {
     "name": "stdout",
     "output_type": "stream",
     "text": [
      "Predicted Energies: \n",
      "[5.30686097 5.30445678 5.30199536 ... 5.47230869 5.47031612 5.47233572]\n",
      "(4000,)\n",
      "Mean Absolute Error:  0.004376783809685591\n"
     ]
    }
   ],
   "source": [
    "# Calculating the kernel matrix between test and training set using same sigma\n",
    "K_test_train = gaussian_kernel(X_test, X_train, sigma)\n",
    "\n",
    "# Calculating the predicted energies\n",
    "Y_pred = np.dot(K_test_train, alpha)\n",
    "print(\"Predicted Energies: \")\n",
    "print(Y_pred)\n",
    "print(Y_pred.shape)\n",
    "\n",
    "# Calculating the mean absolute error\n",
    "MAE = np.mean(np.abs(Y_pred - Y_test))\n",
    "print(\"Mean Absolute Error: \", MAE)"
   ]
  },
  {
   "cell_type": "markdown",
   "metadata": {},
   "source": [
    "Plot the following graphs <br>\n",
    "- loglog of mae vs training samples"
   ]
  },
  {
   "cell_type": "code",
   "execution_count": 9,
   "metadata": {
    "vscode": {
     "languageId": "python"
    }
   },
   "outputs": [
    {
     "name": "stdout",
     "output_type": "stream",
     "text": [
      "2000\n",
      "MAE:  0.02338870234831846\n",
      "4000\n",
      "MAE:  0.02293489419441271\n",
      "6000\n",
      "MAE:  0.02240011563308847\n",
      "8000\n",
      "MAE:  0.015787907240908623\n",
      "10000\n",
      "MAE:  0.012035579660896304\n",
      "12000\n",
      "MAE:  0.012295631955929401\n",
      "14000\n",
      "MAE:  0.012732399479072572\n",
      "X_train_subset_size: \n",
      " [2000, 4000, 6000, 8000, 10000, 12000, 14000]\n",
      "MAE List: \n",
      " [0.02338870234831846, 0.02293489419441271, 0.02240011563308847, 0.015787907240908623, 0.012035579660896304, 0.012295631955929401, 0.012732399479072572]\n"
     ]
    }
   ],
   "source": [
    "# Generating the list of MAE for learning curve\n",
    "# Taking 10%, 20%, 30%, 40%, 50%, 60%, 70% of the training set\n",
    "MAE_list = []\n",
    "X_train_subset_size = []\n",
    "for i in range(1,8):\n",
    "    X_train_subset = X[:int(i*0.1*len(X))]\n",
    "    Y_train_subset = np.array([mol.properties for mol in compounds[:int(i*0.1*len(X))]])\n",
    "    sigma = 1000.0\n",
    "    K = gaussian_kernel(X_train_subset, X_train_subset, sigma)\n",
    "    K[np.diag_indices_from(K)] += 1e-8\n",
    "    alpha = cho_solve(K, Y_train_subset)\n",
    "    K_test_train = gaussian_kernel(X_test, X_train_subset, sigma)\n",
    "    Y_pred = np.dot(K_test_train, alpha)\n",
    "    MAE = np.mean(np.abs(Y_pred - Y_test))\n",
    "    MAE_list.append(MAE)\n",
    "    X_train_subset_size.append(X_train_subset.shape[0])\n",
    "    # print(\"For Each Iteration \", i )\n",
    "    # print(\"Alpha: \", alpha)\n",
    "    # print(\"Alpha Shape: \", alpha.shape)\n",
    "    print(X_train_subset.shape[0])\n",
    "    print(\"MAE: \", MAE)\n",
    "\n",
    "print(\"X_train_subset_size: \\n\", X_train_subset_size)\n",
    "print(\"MAE List: \\n\", MAE_list)\n",
    "\n"
   ]
  },
  {
   "cell_type": "code",
   "execution_count": 10,
   "metadata": {
    "vscode": {
     "languageId": "python"
    }
   },
   "outputs": [
    {
     "data": {
      "image/png": "[encoded data removed]",
      "text/plain": [
       "<Figure size 600x600 with 1 Axes>"
      ]
     },
     "metadata": {},
     "output_type": "display_data"
    }
   ],
   "source": [
    "# Plotting the loglog plot of learning curve of MAE vs training set sizes\n",
    "plt.figure(figsize=(6, 6))\n",
    "plt.loglog(X_train_subset_size, MAE_list, 'o-')\n",
    "plt.xlabel('Training set size')\n",
    "plt.ylabel('MAE')\n",
    "plt.title('Learning Curve: MAE vs Training set size - LOGLOG PLOT')\n",
    "plt.show()"
   ]
  },
  {
   "cell_type": "code",
   "execution_count": 11,
   "metadata": {
    "vscode": {
     "languageId": "python"
    }
   },
   "outputs": [],
   "source": [
    "# avg_mae_array = np.zeros((13,))\n",
    "# for j in range(1, 10):\n",
    "#     for i in range(1, 20):\n",
    "#         N = pow(2, i)\n",
    "#         if N > 10000:\n",
    "#             break\n",
    "#         X_train_copy = X_train.copy()\n",
    "#         Y_train_copy = Y_train.copy()\n",
    "#         np.random.seed(j)\n",
    "#         np.random.shuffle(X_train_copy)\n",
    "#         np.random.seed(j)\n",
    "#         np.random.shuffle(Y_train_copy)\n",
    "#         X_train_subset = X_train_copy[:N]\n",
    "#         Y_train_subset = Y_train_copy[:N]\n",
    "#         avg_mae = 0\n",
    "#         X_test = X_copy[9001:10000]\n",
    "#         y_test = y_copy[9001:10000]\n",
    "#         avg_mae_array[i-1] += scikit_krr_mae(X_train, y_train, X_test, y_test, 4000, 1e-8)\n",
    "\n",
    "# scikit_avg_mae_array /= 10"
   ]
  }
 ],
 "metadata": {
  "kernelspec": {
   "display_name": "Python (tfenv)",
   "language": "python",
   "name": "tfenv"
  }
 },
 "nbformat": 4,
 "nbformat_minor": 2
}
